{
 "cells": [
  {
   "cell_type": "markdown",
   "metadata": {},
   "source": [
    "## Answering project"
   ]
  },
  {
   "cell_type": "code",
   "execution_count": 2,
   "metadata": {},
   "outputs": [
    {
     "name": "stderr",
     "output_type": "stream",
     "text": [
      "C:\\Users\\Mag\\Anaconda3\\lib\\site-packages\\gensim\\utils.py:1197: UserWarning: detected Windows; aliasing chunkize to chunkize_serial\n",
      "  warnings.warn(\"detected Windows; aliasing chunkize to chunkize_serial\")\n"
     ]
    }
   ],
   "source": [
    "import bs4 as bs\n",
    "import urllib.request\n",
    "import re\n",
    "import nltk\n",
    "import pickle\n",
    "from gensim.models import Word2Vec\n",
    "from nltk.corpus import stopwords\n",
    "import datetime\n",
    "import wikipediaapi\n",
    "\n",
    "wiki_wiki = wikipediaapi.Wikipedia(\n",
    "        language='en',\n",
    "        extract_format=wikipediaapi.ExtractFormat.WIKI)"
   ]
  },
  {
   "cell_type": "markdown",
   "metadata": {},
   "source": [
    "### Klasa Answer\n"
   ]
  },
  {
   "cell_type": "code",
   "execution_count": 3,
   "metadata": {
    "collapsed": true
   },
   "outputs": [],
   "source": [
    "class Answer():\n",
    "    \n",
    "    def __init__(self):\n",
    "        self.text_base = ''\n",
    "                \n",
    "    def create_model(self, subj: str):\n",
    "        \n",
    "        self.gather_data(subj)\n",
    "\n",
    "        if len(self.text_base)==0:\n",
    "            print('No text for model to learn')\n",
    "            return None\n",
    "\n",
    "        self.text_base = self.process_text(self.text_base)\n",
    "\n",
    "        sentences = nltk.sent_tokenize(self.text_base)\n",
    "        sentences = [nltk.word_tokenize(sentence) for sentence in sentences]\n",
    "        stop_list = stopwords.words('english')\n",
    "        for i in range(len(sentences)):\n",
    "            sentences[i] = [word for word in sentences[i] if word not in stop_list]\n",
    "\n",
    "        return Word2Vec(sentences, min_count=3)\n",
    "            \n",
    "       \n",
    "    def gather_data(self, subj: str):\n",
    "        \n",
    "        print('Gathering data')\n",
    "        page_start = wiki_wiki.page(subj.lower())\n",
    "            \n",
    "        if page_start.exists()==0:\n",
    "            print('Sorry, no information about this subject in wikipedia...')\n",
    "            return None\n",
    "        \n",
    "        self.text_base = page_start.text\n",
    "        links = page_start.links\n",
    "        \n",
    "        if len(links.keys())!=0:\n",
    "            i, j =1, 0\n",
    "            time_start = datetime.datetime.now()\n",
    "            print('Pages to read: ', len(links.keys()))\n",
    "            \n",
    "            for link in links.keys(): \n",
    "                self.text_base += wiki_wiki.page(link).text\n",
    "                if round(100*i/len(links.keys()),0)>=j+5:\n",
    "                    j=round(100*i/len(links.keys()),0)\n",
    "                    print('Current progress: {:.0f}% pages.'.format(j))\n",
    "                i+=1\n",
    "            time_stop = datetime.datetime.now()\n",
    "            print('Total time: ', time_stop-time_start)\n",
    "    \n",
    "    \n",
    "    ##### fix fix fix \n",
    "    \n",
    "    def what_is_the_meaning_of(self, question: str = 'life', according_to: str = 'monthy python'):\n",
    "        print('Checking existing models...')\n",
    "        try:\n",
    "            with open('models.pickle','rb') as f:\n",
    "                models_dict = pickle.load(f)\n",
    "        except Exception as e:\n",
    "            print('No models stored yet.')\n",
    "            models_dict={}\n",
    "            \n",
    "        if according_to in models_dict.keys():\n",
    "            self.model = models_dict[according_to]\n",
    "            print('Model loaded.')\n",
    "        else:\n",
    "            print('New model will be created.')\n",
    "            self.model = self.create_model(according_to)\n",
    "            models_dict[according_to] = self.model\n",
    "            with open('models.pickle','wb') as f:\n",
    "                pickle.dump(models_dict,f)\n",
    "                \n",
    "        print('The meaning of {} according to {} is : {}, {} or {}.'.format(question, according_to, self.model.wv.most_similar(question)[0][0],self.model.wv.most_similar(question)[1][0],self.model.wv.most_similar(question)[2][0]) )\n",
    "    \n",
    "    @staticmethod\n",
    "    def process_text(text: str):\n",
    "        \n",
    "        text = re.sub(r\"[\\[\\]=,.!?\\-'()\\\"]\", \" \", text)\n",
    "        text = re.sub(r\"<[a-z/]+>\", \" \", text)\n",
    "        text = text.lower()\n",
    "        text = re.sub(r'\\d', ' ', text)\n",
    "        text = re.sub(r\"\\s+\", \" \", text)\n",
    "\n",
    "        return text"
   ]
  },
  {
   "cell_type": "code",
   "execution_count": 4,
   "metadata": {
    "collapsed": true
   },
   "outputs": [],
   "source": [
    "test = Answer()"
   ]
  },
  {
   "cell_type": "code",
   "execution_count": null,
   "metadata": {},
   "outputs": [
    {
     "name": "stdout",
     "output_type": "stream",
     "text": [
      "Checking existing models...\n",
      "New model will be created.\n",
      "Gathering data\n",
      "Pages to read:  876\n",
      "Current progress: 5% pages.\n",
      "Current progress: 10% pages.\n",
      "Current progress: 15% pages.\n",
      "Current progress: 20% pages.\n",
      "Current progress: 25% pages.\n",
      "Current progress: 30% pages.\n",
      "Current progress: 35% pages.\n",
      "Current progress: 40% pages.\n"
     ]
    }
   ],
   "source": [
    "test.what_is_the_meaning_of('cat', according_to = 'dog') "
   ]
  },
  {
   "cell_type": "code",
   "execution_count": 21,
   "metadata": {
    "collapsed": true
   },
   "outputs": [],
   "source": [
    "with open('models.pickle','rb') as f:\n",
    "    models_dict = pickle.load(f)"
   ]
  },
  {
   "cell_type": "code",
   "execution_count": 22,
   "metadata": {},
   "outputs": [
    {
     "data": {
      "text/plain": [
       "<gensim.models.word2vec.Word2Vec at 0xfcdcca1f28>"
      ]
     },
     "execution_count": 22,
     "metadata": {},
     "output_type": "execute_result"
    }
   ],
   "source": [
    "models_dict['monty python']"
   ]
  },
  {
   "cell_type": "code",
   "execution_count": null,
   "metadata": {
    "collapsed": true
   },
   "outputs": [],
   "source": [
    "print"
   ]
  }
 ],
 "metadata": {
  "kernelspec": {
   "display_name": "Python 3",
   "language": "python",
   "name": "python3"
  },
  "language_info": {
   "codemirror_mode": {
    "name": "ipython",
    "version": 3
   },
   "file_extension": ".py",
   "mimetype": "text/x-python",
   "name": "python",
   "nbconvert_exporter": "python",
   "pygments_lexer": "ipython3",
   "version": "3.6.3"
  }
 },
 "nbformat": 4,
 "nbformat_minor": 2
}
