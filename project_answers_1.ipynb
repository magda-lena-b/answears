{
 "cells": [
  {
   "cell_type": "markdown",
   "metadata": {},
   "source": [
    "## Answering project"
   ]
  },
  {
   "cell_type": "code",
   "execution_count": 1,
   "metadata": {},
   "outputs": [
    {
     "name": "stderr",
     "output_type": "stream",
     "text": [
      "C:\\Users\\Mag\\Anaconda3\\lib\\site-packages\\gensim\\utils.py:1197: UserWarning: detected Windows; aliasing chunkize to chunkize_serial\n",
      "  warnings.warn(\"detected Windows; aliasing chunkize to chunkize_serial\")\n"
     ]
    }
   ],
   "source": [
    "import bs4 as bs\n",
    "import urllib.request\n",
    "import re\n",
    "import nltk\n",
    "import pickle\n",
    "from gensim.models import Word2Vec\n",
    "from nltk.corpus import stopwords\n",
    "import datetime\n",
    "import wikipediaapi\n",
    "\n",
    "wiki_wiki = wikipediaapi.Wikipedia(\n",
    "        language='en',\n",
    "        extract_format=wikipediaapi.ExtractFormat.WIKI)"
   ]
  },
  {
   "cell_type": "markdown",
   "metadata": {},
   "source": [
    "### Klasa Answer\n"
   ]
  },
  {
   "cell_type": "code",
   "execution_count": 2,
   "metadata": {
    "collapsed": true
   },
   "outputs": [],
   "source": [
    "class Answer():\n",
    "    \n",
    "    def __init__(self):\n",
    "        self.text_base = ''\n",
    "                \n",
    "    def create_model(self, subj: str):\n",
    "            page_start = wiki_wiki.page(subj.lower())\n",
    "            self.gather_data(page_start)\n",
    "            \n",
    "            if len(self.text_base)==0:\n",
    "                print('No text for model to learn')\n",
    "                return None\n",
    "            \n",
    "            self.text_base = self.process_text(self.text_base)\n",
    "            \n",
    "            sentences = nltk.sent_tokenize(self.text_base)\n",
    "            sentences = [nltk.word_tokenize(sentence) for sentence in sentences]\n",
    "            stop_list = stopwords.words('english')\n",
    "            for i in range(len(sentences)):\n",
    "                sentences[i] = [word for word in sentences[i] if word not in stop_list]\n",
    "            \n",
    "            return Word2Vec(sentences, min_count=3)\n",
    "            \n",
    "       \n",
    "    def gather_data(self, wiki_page: wikipediaapi.wikipedia.WikipediaPage):\n",
    "        \n",
    "        print('Gathering data')\n",
    "            \n",
    "        if page_start.exists()==0:\n",
    "            print('Sorry, no information about this subject in wikipedia...')\n",
    "            return None\n",
    "        \n",
    "        self.text_base = wiki_page.text\n",
    "        links = wiki_page.links\n",
    "        \n",
    "        if len(links.keys())!=0:\n",
    "            i, j =1, 0\n",
    "            time_start = datetime.datetime.now()\n",
    "            print('Pages to read: ', len(links.keys()))\n",
    "            \n",
    "            for link in links.keys(): \n",
    "                self.text_base += wiki_wiki.page(link).text\n",
    "                if round(100*i/len(links.keys()),0)>=j+5:\n",
    "                    j=round(100*i/len(links.keys()),0)\n",
    "                    print('Current progress: {:.0f}% pages.'.format(j))\n",
    "                i+=1\n",
    "            time_stop = datetime.datetime.now()\n",
    "            print('Total time: ', time_stop-time_start)\n",
    "    \n",
    "    \n",
    "    ##### fix fix fix \n",
    "    \n",
    "    def what_is_the_meaning_of(self, question: str = 'life', according_to: str = 'monthy python'):\n",
    "        print('Checking existing models...')\n",
    "        try:\n",
    "            with open('models.pickle','rb') as f:\n",
    "                models_dict = pickle.load(f)\n",
    "        except Exception as e:\n",
    "            print('No models stored yet.')\n",
    "            models_dict={}\n",
    "            \n",
    "        if according_to in models_dict.keys():\n",
    "            self.model = models_dict[according_to]\n",
    "            print('Model loaded.')\n",
    "        else:\n",
    "            print('New model will be created.')\n",
    "            self.model = self.create_model(according_to)\n",
    "            models_dict[according_to] = self.model\n",
    "            with open('models.pickle','rb') as f:\n",
    "                pickle.dump(models_dict,f)\n",
    "                \n",
    "        print('The meaning of {} according to {} is : {}, {} or {}.'.format(question, according_to, self.model.wv.most_similar(question)[0][0],self.model.wv.most_similar(question)[1][0],self.model.wv.most_similar(question)[2][0]) )\n",
    "    \n",
    "    @staticmethod\n",
    "    def process_text(text: str):\n",
    "        \n",
    "        text = re.sub(r\"[\\[=,.!?()\\\"]\", \" \", text)\n",
    "        text = re.sub(r\"<[a-z/]+>\", \" \", text)\n",
    "        text = text.lower()\n",
    "        text = re.sub(r'\\d', ' ', text)\n",
    "        text = re.sub(r\"\\s+\", \" \", text)\n",
    "\n",
    "        return text"
   ]
  },
  {
   "cell_type": "code",
   "execution_count": 3,
   "metadata": {
    "collapsed": true
   },
   "outputs": [],
   "source": [
    "test = Answer()"
   ]
  },
  {
   "cell_type": "code",
   "execution_count": 4,
   "metadata": {},
   "outputs": [
    {
     "name": "stdout",
     "output_type": "stream",
     "text": [
      "Checking existing models...\n",
      "No models stored yet.\n",
      "New model will be created.\n",
      "Gathering data\n"
     ]
    },
    {
     "ename": "NameError",
     "evalue": "name 'page_start' is not defined",
     "output_type": "error",
     "traceback": [
      "\u001b[1;31m---------------------------------------------------------------------------\u001b[0m",
      "\u001b[1;31mNameError\u001b[0m                                 Traceback (most recent call last)",
      "\u001b[1;32m<ipython-input-4-981b3f687234>\u001b[0m in \u001b[0;36m<module>\u001b[1;34m()\u001b[0m\n\u001b[1;32m----> 1\u001b[1;33m \u001b[0mtest\u001b[0m\u001b[1;33m.\u001b[0m\u001b[0mwhat_is_the_meaning_of\u001b[0m\u001b[1;33m(\u001b[0m\u001b[1;34m'life'\u001b[0m\u001b[1;33m,\u001b[0m \u001b[0maccording_to\u001b[0m \u001b[1;33m=\u001b[0m \u001b[1;34m'monty python'\u001b[0m\u001b[1;33m)\u001b[0m\u001b[1;33m\u001b[0m\u001b[0m\n\u001b[0m",
      "\u001b[1;32m<ipython-input-2-3b0a0b71c854>\u001b[0m in \u001b[0;36mwhat_is_the_meaning_of\u001b[1;34m(self, question, according_to)\u001b[0m\n\u001b[0;32m     65\u001b[0m         \u001b[1;32melse\u001b[0m\u001b[1;33m:\u001b[0m\u001b[1;33m\u001b[0m\u001b[0m\n\u001b[0;32m     66\u001b[0m             \u001b[0mprint\u001b[0m\u001b[1;33m(\u001b[0m\u001b[1;34m'New model will be created.'\u001b[0m\u001b[1;33m)\u001b[0m\u001b[1;33m\u001b[0m\u001b[0m\n\u001b[1;32m---> 67\u001b[1;33m             \u001b[0mself\u001b[0m\u001b[1;33m.\u001b[0m\u001b[0mmodel\u001b[0m \u001b[1;33m=\u001b[0m \u001b[0mself\u001b[0m\u001b[1;33m.\u001b[0m\u001b[0mcreate_model\u001b[0m\u001b[1;33m(\u001b[0m\u001b[0maccording_to\u001b[0m\u001b[1;33m)\u001b[0m\u001b[1;33m\u001b[0m\u001b[0m\n\u001b[0m\u001b[0;32m     68\u001b[0m             \u001b[0mmodels_dict\u001b[0m\u001b[1;33m[\u001b[0m\u001b[0maccording_to\u001b[0m\u001b[1;33m]\u001b[0m \u001b[1;33m=\u001b[0m \u001b[0mself\u001b[0m\u001b[1;33m.\u001b[0m\u001b[0mmodel\u001b[0m\u001b[1;33m\u001b[0m\u001b[0m\n\u001b[0;32m     69\u001b[0m             \u001b[1;32mwith\u001b[0m \u001b[0mopen\u001b[0m\u001b[1;33m(\u001b[0m\u001b[1;34m'models.pickle'\u001b[0m\u001b[1;33m,\u001b[0m\u001b[1;34m'rb'\u001b[0m\u001b[1;33m)\u001b[0m \u001b[1;32mas\u001b[0m \u001b[0mf\u001b[0m\u001b[1;33m:\u001b[0m\u001b[1;33m\u001b[0m\u001b[0m\n",
      "\u001b[1;32m<ipython-input-2-3b0a0b71c854>\u001b[0m in \u001b[0;36mcreate_model\u001b[1;34m(self, subj)\u001b[0m\n\u001b[0;32m      6\u001b[0m     \u001b[1;32mdef\u001b[0m \u001b[0mcreate_model\u001b[0m\u001b[1;33m(\u001b[0m\u001b[0mself\u001b[0m\u001b[1;33m,\u001b[0m \u001b[0msubj\u001b[0m\u001b[1;33m:\u001b[0m \u001b[0mstr\u001b[0m\u001b[1;33m)\u001b[0m\u001b[1;33m:\u001b[0m\u001b[1;33m\u001b[0m\u001b[0m\n\u001b[0;32m      7\u001b[0m             \u001b[0mpage_start\u001b[0m \u001b[1;33m=\u001b[0m \u001b[0mwiki_wiki\u001b[0m\u001b[1;33m.\u001b[0m\u001b[0mpage\u001b[0m\u001b[1;33m(\u001b[0m\u001b[0msubj\u001b[0m\u001b[1;33m.\u001b[0m\u001b[0mlower\u001b[0m\u001b[1;33m(\u001b[0m\u001b[1;33m)\u001b[0m\u001b[1;33m)\u001b[0m\u001b[1;33m\u001b[0m\u001b[0m\n\u001b[1;32m----> 8\u001b[1;33m             \u001b[0mself\u001b[0m\u001b[1;33m.\u001b[0m\u001b[0mgather_data\u001b[0m\u001b[1;33m(\u001b[0m\u001b[0mpage_start\u001b[0m\u001b[1;33m)\u001b[0m\u001b[1;33m\u001b[0m\u001b[0m\n\u001b[0m\u001b[0;32m      9\u001b[0m \u001b[1;33m\u001b[0m\u001b[0m\n\u001b[0;32m     10\u001b[0m             \u001b[1;32mif\u001b[0m \u001b[0mlen\u001b[0m\u001b[1;33m(\u001b[0m\u001b[0mself\u001b[0m\u001b[1;33m.\u001b[0m\u001b[0mtext_base\u001b[0m\u001b[1;33m)\u001b[0m\u001b[1;33m==\u001b[0m\u001b[1;36m0\u001b[0m\u001b[1;33m:\u001b[0m\u001b[1;33m\u001b[0m\u001b[0m\n",
      "\u001b[1;32m<ipython-input-2-3b0a0b71c854>\u001b[0m in \u001b[0;36mgather_data\u001b[1;34m(self, wiki_page)\u001b[0m\n\u001b[0;32m     27\u001b[0m         \u001b[0mprint\u001b[0m\u001b[1;33m(\u001b[0m\u001b[1;34m'Gathering data'\u001b[0m\u001b[1;33m)\u001b[0m\u001b[1;33m\u001b[0m\u001b[0m\n\u001b[0;32m     28\u001b[0m \u001b[1;33m\u001b[0m\u001b[0m\n\u001b[1;32m---> 29\u001b[1;33m         \u001b[1;32mif\u001b[0m \u001b[0mpage_start\u001b[0m\u001b[1;33m.\u001b[0m\u001b[0mexists\u001b[0m\u001b[1;33m(\u001b[0m\u001b[1;33m)\u001b[0m\u001b[1;33m==\u001b[0m\u001b[1;36m0\u001b[0m\u001b[1;33m:\u001b[0m\u001b[1;33m\u001b[0m\u001b[0m\n\u001b[0m\u001b[0;32m     30\u001b[0m             \u001b[0mprint\u001b[0m\u001b[1;33m(\u001b[0m\u001b[1;34m'Sorry, no information about this subject in wikipedia...'\u001b[0m\u001b[1;33m)\u001b[0m\u001b[1;33m\u001b[0m\u001b[0m\n\u001b[0;32m     31\u001b[0m             \u001b[1;32mreturn\u001b[0m \u001b[1;32mNone\u001b[0m\u001b[1;33m\u001b[0m\u001b[0m\n",
      "\u001b[1;31mNameError\u001b[0m: name 'page_start' is not defined"
     ]
    }
   ],
   "source": [
    "test.what_is_the_meaning_of('life', according_to = 'monty python') "
   ]
  },
  {
   "cell_type": "code",
   "execution_count": null,
   "metadata": {
    "collapsed": true
   },
   "outputs": [],
   "source": [
    "test.what_is_the_meaning_of('october', according_to = 'pumpkin')"
   ]
  }
 ],
 "metadata": {
  "kernelspec": {
   "display_name": "Python 3",
   "language": "python",
   "name": "python3"
  },
  "language_info": {
   "codemirror_mode": {
    "name": "ipython",
    "version": 3
   },
   "file_extension": ".py",
   "mimetype": "text/x-python",
   "name": "python",
   "nbconvert_exporter": "python",
   "pygments_lexer": "ipython3",
   "version": "3.6.3"
  }
 },
 "nbformat": 4,
 "nbformat_minor": 2
}
